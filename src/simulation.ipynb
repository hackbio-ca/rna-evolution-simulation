{
 "cells": [
  {
   "cell_type": "code",
   "execution_count": 2,
   "metadata": {},
   "outputs": [],
   "source": [
    "import random\n",
    "import numpy as np\n",
    "import matplotlib.pyplot as plt\n",
    "import Levenshtein\n",
    "import itertools\n",
    "import RNA\n",
    "\n",
    "nucleotides = {'A':0,'G':1,'U':2,'C':3}\n",
    "nucleotides_text = ['A','G','U','C']"
   ]
  },
  {
   "cell_type": "markdown",
   "metadata": {},
   "source": [
    "**Parameters**"
   ]
  },
  {
   "cell_type": "code",
   "execution_count": 3,
   "metadata": {},
   "outputs": [],
   "source": [
    "initial_rna = \"ACC\"\n",
    "target = \"AGCC\"\n",
    "global_enviornmental_factors = []\n",
    "generations = 5\n",
    "base_mutation = np.array([[0.925, 0.025, 0.025, 0.025], [0.025, 0.925, 0.025, 0.025], [0.025, 0.025, 0.925, 0.025], [0.025, 0.025, 0.025, 0.925]])"
   ]
  },
  {
   "cell_type": "markdown",
   "metadata": {},
   "source": [
    "**Update Parameters**"
   ]
  },
  {
   "cell_type": "code",
   "execution_count": 4,
   "metadata": {},
   "outputs": [],
   "source": [
    "def calculate_environmental_factors (rna_population, enviornmental_factors):\n",
    "    return enviornmental_factors\n",
    "\n",
    "def calculate_mutation_rate (factors, mutation_rate = base_mutation):\n",
    "    return mutation_rate"
   ]
  },
  {
   "cell_type": "markdown",
   "metadata": {},
   "source": [
    "**Find Indel Probability**"
   ]
  },
  {
   "cell_type": "code",
   "execution_count": 5,
   "metadata": {},
   "outputs": [],
   "source": [
    "def calculate_insertion_rate (sequence, factors, insertion_rate = 0.075):\n",
    "    return insertion_rate\n",
    "\n",
    "def calculate_deletion_rate (sequence, factors, deletion_rate = 0.075):\n",
    "    return deletion_rate"
   ]
  },
  {
   "cell_type": "markdown",
   "metadata": {},
   "source": [
    "**Transition Matrix Calculation**"
   ]
  },
  {
   "cell_type": "code",
   "execution_count": 6,
   "metadata": {},
   "outputs": [],
   "source": [
    "def mutation_chance_list(mutation_list, mutation_rate):\n",
    "    \"\"\"Takes in matrix of mutations, outputs matrix of probabilities of each mutation\"\"\"\n",
    "    probability_list = np.ones((len(mutation_list)))\n",
    "\n",
    "    original = mutation_list[0]\n",
    "    length_of_sequence = len(original)\n",
    "\n",
    "    for i, column in enumerate(mutation_list):\n",
    "        for k in range(length_of_sequence):\n",
    "            original_index = nucleotides[original[k]]\n",
    "            possibility_index = nucleotides[column[k]]\n",
    "            probability_list[i] *= mutation_rate[original_index, possibility_index]\n",
    "\n",
    "    probability_list[0] = np.maximum(0, 1 - np.sum(probability_list[1:]))\n",
    "\n",
    "    return probability_list\n",
    "\n",
    "def generate_combinations(original):\n",
    "    n = len(original)\n",
    "    \n",
    "    all_combinations = [''.join(seq) for seq in itertools.product(nucleotides_text, repeat=n)]\n",
    "    \n",
    "    all_combinations.remove(original)\n",
    "    \n",
    "    all_combinations.insert(0, original)\n",
    "    \n",
    "    return all_combinations\n"
   ]
  },
  {
   "cell_type": "markdown",
   "metadata": {},
   "source": [
    "**Fitness**"
   ]
  },
  {
   "cell_type": "code",
   "execution_count": 7,
   "metadata": {},
   "outputs": [],
   "source": [
    "def fitness (target_distance, target_mfe, sequence):\n",
    "    sequence_distance = Levenshtein.distance(sequence, target)\n",
    "    if (sequence_distance > target_distance):\n",
    "        return False\n",
    "    sequence_mfe = RNA.fold(sequence)[1]\n",
    "    if (sequence_mfe > target_mfe):\n",
    "        return False\n",
    "\n",
    "    return True\n",
    "    "
   ]
  },
  {
   "cell_type": "markdown",
   "metadata": {},
   "source": [
    "**Simulation**"
   ]
  },
  {
   "cell_type": "code",
   "execution_count": 17,
   "metadata": {},
   "outputs": [],
   "source": [
    "def replicate_rna (initial_rna, mutation_rate, generations, target):\n",
    "\n",
    "    rna_population = [initial_rna]\n",
    "    full_population = [initial_rna]\n",
    "    population_history = [[initial_rna]]\n",
    "    \n",
    "    target_mfe = abs(RNA.fold(target)[1]-RNA.fold(initial_rna)[1])\n",
    "    target_distance = Levenshtein.distance(initial_rna, target)\n",
    "\n",
    "    enviornmental_factors = calculate_environmental_factors(rna_population, global_enviornmental_factors)\n",
    "\n",
    "    for _ in range(generations):\n",
    "\n",
    "        enviornmental_factors = calculate_environmental_factors(rna_population, enviornmental_factors)\n",
    "        mutation_rate = calculate_mutation_rate(enviornmental_factors, mutation_rate)\n",
    "        \n",
    "        new_population = []\n",
    "\n",
    "        for rna in rna_population:\n",
    "            old_rna = rna\n",
    "            o_len = len(old_rna)\n",
    "            new_rna = \"\"\n",
    "            nucleotides_gain = 0\n",
    "            \n",
    "            insertion_rate = calculate_insertion_rate(rna, enviornmental_factors)\n",
    "            deletion_rate = calculate_deletion_rate(rna, enviornmental_factors)\n",
    "\n",
    "            while (insertion_rate > random.random()):\n",
    "                nucleotides_gain += 1\n",
    "            while (deletion_rate > random.random()):\n",
    "                nucleotides_gain -= 1\n",
    "            try:\n",
    "                if (nucleotides_gain > 0):\n",
    "                    for _ in range(nucleotides_gain):\n",
    "                        index = random.randint(0, o_len)\n",
    "                        old_rna = old_rna[:index] + random.choice(nucleotides_text) + old_rna[index:]\n",
    "                        o_len += 1\n",
    "                elif (nucleotides_gain < 0):\n",
    "                    for _ in range(-nucleotides_gain):\n",
    "                        index = random.randint(0, o_len)\n",
    "                        old_rna = old_rna[:index] + old_rna[index+1:]\n",
    "                        o_len -= 1\n",
    "            except Exception:\n",
    "                pass\n",
    "\n",
    "            mutation_list = generate_combinations(old_rna)\n",
    "            chance_list = mutation_chance_list(mutation_list, mutation_rate)\n",
    "            \n",
    "            new_rna = mutation_list[np.random.choice(len(chance_list), p=chance_list/chance_list.sum())]\n",
    "            \n",
    "            new_population.append(str(new_rna))\n",
    "\n",
    "        full_population += new_population.copy()\n",
    "        rna_population += [rna for rna in new_population if fitness(target_distance, target_mfe, rna)]\n",
    "        population_history.append(rna_population)\n",
    "        if target in rna_population:\n",
    "            break\n",
    "    \n",
    "    return rna_population, full_population, population_history"
   ]
  },
  {
   "cell_type": "markdown",
   "metadata": {},
   "source": [
    "**Data Analysis**"
   ]
  },
  {
   "cell_type": "code",
   "execution_count": 18,
   "metadata": {},
   "outputs": [
    {
     "name": "stdout",
     "output_type": "stream",
     "text": [
      "Initial RNA (length 1): A\n",
      "Generations needed for length 1: 9\n",
      "Initial RNA (length 1): A\n",
      "Generations needed for length 1: 6\n",
      "Initial RNA (length 1): C\n",
      "Generations needed for length 1: 11\n",
      "Initial RNA (length 1): C\n",
      "Generations needed for length 1: 12\n",
      "Initial RNA (length 1): C\n",
      "Generations needed for length 1: 8\n",
      "Initial RNA (length 1): C\n",
      "Generations needed for length 1: 8\n",
      "Initial RNA (length 1): A\n",
      "Generations needed for length 1: 8\n",
      "Initial RNA (length 1): C\n",
      "Generations needed for length 1: 9\n",
      "Initial RNA (length 1): U\n",
      "Generations needed for length 1: 12\n",
      "Initial RNA (length 1): C\n",
      "Generations needed for length 1: 9\n",
      "Initial RNA (length 2): GC\n",
      "Generations needed for length 2: 12\n",
      "Initial RNA (length 2): GU\n",
      "Generations needed for length 2: 9\n",
      "Initial RNA (length 2): CG\n",
      "Generations needed for length 2: 8\n",
      "Initial RNA (length 2): CC\n",
      "Generations needed for length 2: 9\n",
      "Initial RNA (length 2): CC\n",
      "Generations needed for length 2: 8\n",
      "Initial RNA (length 2): CC\n",
      "Generations needed for length 2: 10\n",
      "Initial RNA (length 2): AG\n",
      "Generations needed for length 2: 6\n",
      "Initial RNA (length 2): UC\n",
      "Generations needed for length 2: 7\n",
      "Initial RNA (length 2): GC\n",
      "Generations needed for length 2: 11\n",
      "Initial RNA (length 2): UU\n",
      "Generations needed for length 2: 7\n",
      "Initial RNA (length 3): AUU\n",
      "Generations needed for length 3: 6\n",
      "Initial RNA (length 3): UAA\n",
      "Generations needed for length 3: 8\n",
      "Initial RNA (length 3): UGU\n",
      "Generations needed for length 3: 8\n",
      "Initial RNA (length 3): ACU\n",
      "Generations needed for length 3: 10\n",
      "Initial RNA (length 3): CGC\n",
      "Generations needed for length 3: 11\n",
      "Initial RNA (length 3): UAG\n",
      "Generations needed for length 3: 9\n",
      "Initial RNA (length 3): AGU\n",
      "Generations needed for length 3: 7\n",
      "Initial RNA (length 3): AUG\n",
      "Generations needed for length 3: 10\n",
      "Initial RNA (length 3): GGA\n",
      "Generations needed for length 3: 11\n",
      "Initial RNA (length 3): CAU\n",
      "Generations needed for length 3: 4\n",
      "Initial RNA (length 4): GGUU\n",
      "Generations needed for length 4: 12\n",
      "Initial RNA (length 4): CAUG\n",
      "Generations needed for length 4: 13\n",
      "Initial RNA (length 4): CGCA\n",
      "Generations needed for length 4: 14\n",
      "Initial RNA (length 4): AUGA\n",
      "Generations needed for length 4: 11\n",
      "Initial RNA (length 4): CGGA\n",
      "Generations needed for length 4: 13\n",
      "Initial RNA (length 4): UGUC\n",
      "Generations needed for length 4: 10\n",
      "Initial RNA (length 4): CGGG\n",
      "Generations needed for length 4: 13\n",
      "Initial RNA (length 4): GUGA\n",
      "Generations needed for length 4: 11\n",
      "Initial RNA (length 4): UAAU\n",
      "Generations needed for length 4: 11\n",
      "Initial RNA (length 4): GUUC\n",
      "Generations needed for length 4: 13\n"
     ]
    },
    {
     "data": {
      "image/png": "[encoded data removed]",
      "text/plain": [
       "<Figure size 1000x600 with 1 Axes>"
      ]
     },
     "metadata": {},
     "output_type": "display_data"
    }
   ],
   "source": [
    "def plot_generations_to_target(target, min_length, max_length, mutation_rate, generations, trials):\n",
    "    lengths = range(min_length, max_length + 1)\n",
    "    average_generations_needed = []\n",
    "\n",
    "    for length in lengths:\n",
    "        generations_needed = []\n",
    "        for _ in range(trials):\n",
    "            initial_rna = ''.join(random.choices(nucleotides_text, k=length))\n",
    "            print(f\"Initial RNA (length {length}): {initial_rna}\")\n",
    "            _, _, population_history = replicate_rna(initial_rna, mutation_rate, generations, target)\n",
    "            generations_needed.append(len(population_history))\n",
    "            print(f\"Generations needed for length {length}: {len(population_history)}\")\n",
    "        \n",
    "        average_generations_needed.append(np.mean(generations_needed))\n",
    "\n",
    "    plt.figure(figsize=(10, 6))\n",
    "    plt.plot(lengths, average_generations_needed, marker='o')\n",
    "    plt.xlabel('Length of Initial RNA Sequence')\n",
    "    plt.ylabel('Average Generations Needed to Achieve Target')\n",
    "    plt.title('Average Generations Needed vs. Length of Initial RNA Sequence')\n",
    "    plt.grid(True)\n",
    "    plt.show()\n",
    "\n",
    "target = \"AU\"\n",
    "mutation_rate = calculate_mutation_rate (global_enviornmental_factors, base_mutation)\n",
    "generations = 1000\n",
    "trials = 10\n",
    "\n",
    "plot_generations_to_target(target, 1, 4, mutation_rate, generations, trials)"
   ]
  }
 ],
 "metadata": {
  "kernelspec": {
   "display_name": "env",
   "language": "python",
   "name": "python3"
  },
  "language_info": {
   "codemirror_mode": {
    "name": "ipython",
    "version": 3
   },
   "file_extension": ".py",
   "mimetype": "text/x-python",
   "name": "python",
   "nbconvert_exporter": "python",
   "pygments_lexer": "ipython3",
   "version": "3.12.2"
  }
 },
 "nbformat": 4,
 "nbformat_minor": 2
}
