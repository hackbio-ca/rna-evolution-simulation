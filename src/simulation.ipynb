{
 "cells": [
  {
   "cell_type": "code",
   "execution_count": 192,
   "metadata": {},
   "outputs": [],
   "source": [
    "import random\n",
    "import numpy as np\n",
    "import matplotlib as plt\n",
    "import Levenshtein\n",
    "import itertools\n",
    "import RNA\n",
    "\n",
    "nucleotides = {'A':0,'G':1,'U':2,'C':3}\n",
    "nucleotides_text = ['A','G','U','C']"
   ]
  },
  {
   "cell_type": "markdown",
   "metadata": {},
   "source": [
    "**Parameters**"
   ]
  },
  {
   "cell_type": "code",
   "execution_count": 341,
   "metadata": {},
   "outputs": [],
   "source": [
    "initial_rna = \"ACCCC\"\n",
    "target = \"AGCCCGA\"\n",
    "global_enviornmental_factors = []\n",
    "generations = 5\n",
    "base_mutation = np.array([[0.925, 0.025, 0.025, 0.025], [0.025, 0.925, 0.025, 0.025], [0.025, 0.025, 0.925, 0.025], [0.025, 0.025, 0.025, 0.925]])"
   ]
  },
  {
   "cell_type": "markdown",
   "metadata": {},
   "source": [
    "**Update Parameters**"
   ]
  },
  {
   "cell_type": "code",
   "execution_count": 3,
   "metadata": {},
   "outputs": [],
   "source": [
    "def calculate_environmental_factors (rna_population, enviornmental_factors):\n",
    "    return enviornmental_factors\n",
    "\n",
    "def calculate_mutation_rate (factors, mutation_rate = base_mutation):\n",
    "    return mutation_rate"
   ]
  },
  {
   "cell_type": "markdown",
   "metadata": {},
   "source": [
    "**Find Indel Probability**"
   ]
  },
  {
   "cell_type": "code",
   "execution_count": 4,
   "metadata": {},
   "outputs": [],
   "source": [
    "def calculate_insertion_rate (sequence, factors, insertion_rate = 0.01):\n",
    "    return insertion_rate\n",
    "\n",
    "def calculate_deletion_rate (sequence, factors, deletion_rate = 0.01):\n",
    "    return deletion_rate"
   ]
  },
  {
   "cell_type": "markdown",
   "metadata": {},
   "source": [
    "**Transition Matrix Calculation**"
   ]
  },
  {
   "cell_type": "code",
   "execution_count": 5,
   "metadata": {},
   "outputs": [],
   "source": [
    "def mutation_chance_matrix(mutation_matrix, mutation_rate):\n",
    "    \"\"\"Takes in matrix of mutations, outputs matrix of probabilities of each mutation\"\"\"\n",
    "    probability_matrix = np.ones((len(mutation_matrix), len(mutation_matrix[0])))\n",
    "\n",
    "    for i, row in enumerate(mutation_matrix):\n",
    "        original = row[0]\n",
    "        o_length = len(original)\n",
    "        for j in range(o_length):\n",
    "            original_index = nucleotides[original[j]]\n",
    "        for j, possibility in enumerate(row):\n",
    "            for k in range(o_length):\n",
    "                possibility_index = nucleotides[possibility[k]]\n",
    "                probability_matrix[i, j] *= mutation_rate[original_index, possibility_index]\n",
    "\n",
    "    probability_matrix[:, 0] = np.maximum(0, 1 - np.sum(probability_matrix[:, 1:], axis=1))\n",
    "\n",
    "    return probability_matrix\n",
    "\n",
    "def generate_mutation_matrix(n):\n",
    "    sequences = [''.join(seq) for seq in itertools.product(nucleotides, repeat=n)]\n",
    "    matrix = [[seq] + [s for s in sequences if s != seq] for seq in sequences]\n",
    "    return np.array(matrix)\n"
   ]
  },
  {
   "cell_type": "markdown",
   "metadata": {},
   "source": [
    "**Fitness**"
   ]
  },
  {
   "cell_type": "code",
   "execution_count": 6,
   "metadata": {},
   "outputs": [],
   "source": [
    "def fitness (target_distance, target_mfe, sequence):\n",
    "    sequence_distance = Levenshtein.distance(sequence, target)\n",
    "    if (sequence_distance > target_distance):\n",
    "        return False\n",
    "    sequence_mfe = RNA.fold(sequence)[1]\n",
    "    if (sequence_mfe > target_mfe):\n",
    "        return False\n",
    "\n",
    "    return True\n",
    "    "
   ]
  },
  {
   "cell_type": "markdown",
   "metadata": {},
   "source": [
    "**Simulation**"
   ]
  },
  {
   "cell_type": "code",
   "execution_count": 303,
   "metadata": {},
   "outputs": [],
   "source": [
    "def replicate_rna (initial_rna, mutation_rate, generations, target):\n",
    "\n",
    "    rna_population = [initial_rna]\n",
    "    full_population = [initial_rna]\n",
    "    \n",
    "    target_mfe = abs(RNA.fold(target)[1]-RNA.fold(initial_rna)[1])\n",
    "    target_distance = Levenshtein.distance(initial_rna, target)\n",
    "\n",
    "    enviornmental_factors = calculate_environmental_factors(rna_population, global_enviornmental_factors)\n",
    "\n",
    "    for _ in range(generations):\n",
    "\n",
    "        enviornmental_factors = calculate_environmental_factors(rna_population, enviornmental_factors)\n",
    "        mutation_rate = calculate_mutation_rate(enviornmental_factors, mutation_rate)\n",
    "        \n",
    "        new_population = []\n",
    "\n",
    "        for rna in rna_population:\n",
    "            old_rna = rna\n",
    "            o_len = len(old_rna)\n",
    "            new_rna = \"\"\n",
    "            nucleotides_gain = 0\n",
    "            \n",
    "            insertion_rate = calculate_insertion_rate(rna, enviornmental_factors)\n",
    "            deletion_rate = calculate_deletion_rate(rna, enviornmental_factors)\n",
    "\n",
    "            while (insertion_rate > random.random()):\n",
    "                nucleotides_gain += 1\n",
    "            while (deletion_rate > random.random()):\n",
    "                nucleotides_gain -= 1\n",
    "\n",
    "            if (nucleotides_gain > 0):\n",
    "                for _ in range(nucleotides_gain):\n",
    "                    index = random.randint(0, o_len)\n",
    "                    old_rna = old_rna[:index] + random.choice(nucleotides_text) + old_rna[index:]\n",
    "                    o_len += 1\n",
    "            elif (nucleotides_gain < 0):\n",
    "                for _ in range(-nucleotides_gain):\n",
    "                    index = random.randint(0, o_len)\n",
    "                    old_rna = old_rna[:index] + old_rna[index+1:]\n",
    "                    o_len -= 1\n",
    "\n",
    "            mutation_matrix = generate_mutation_matrix(o_len)\n",
    "            mutation_chance = mutation_chance_matrix(mutation_matrix, mutation_rate)\n",
    "\n",
    "            mutation_list = mutation_matrix[mutation_matrix[:, 0] == old_rna][0]\n",
    "            mutation_chance_list = mutation_chance[mutation_matrix[:, 0] == old_rna][0]\n",
    "            new_rna = mutation_list[np.random.choice(len(mutation_chance_list), p=mutation_chance_list/mutation_chance_list.sum())]\n",
    "            \n",
    "            new_population.append(str(new_rna))\n",
    "\n",
    "        full_population += new_population.copy()\n",
    "        rna_population += [rna for rna in new_population if fitness(target_distance, target_mfe, rna)]\n",
    "    \n",
    "    return rna_population, full_population"
   ]
  },
  {
   "cell_type": "code",
   "execution_count": 343,
   "metadata": {},
   "outputs": [
    {
     "name": "stdout",
     "output_type": "stream",
     "text": [
      "(['ACCCC', 'CGCCCC'], ['ACCCC', 'ACACC', 'CCCCC', 'CUCCC', 'CCCCC', 'CGCCCC'])\n"
     ]
    }
   ],
   "source": [
    "mutation_rate = calculate_mutation_rate(global_enviornmental_factors)\n",
    "\n",
    "print(replicate_rna(initial_rna, mutation_rate, generations, target))"
   ]
  },
  {
   "cell_type": "markdown",
   "metadata": {},
   "source": [
    "**Data Analysis**"
   ]
  }
 ],
 "metadata": {
  "kernelspec": {
   "display_name": "env",
   "language": "python",
   "name": "python3"
  },
  "language_info": {
   "codemirror_mode": {
    "name": "ipython",
    "version": 3
   },
   "file_extension": ".py",
   "mimetype": "text/x-python",
   "name": "python",
   "nbconvert_exporter": "python",
   "pygments_lexer": "ipython3",
   "version": "3.12.2"
  }
 },
 "nbformat": 4,
 "nbformat_minor": 2
}
