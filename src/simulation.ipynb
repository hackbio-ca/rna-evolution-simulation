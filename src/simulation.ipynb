{
 "cells": [
  {
   "cell_type": "code",
   "execution_count": 9,
   "metadata": {},
   "outputs": [],
   "source": [
    "import random\n",
    "import numpy as np\n",
    "import matplotlib as plt\n",
    "import Levenshtein\n",
    "import itertools\n",
    "import RNA\n",
    "\n",
    "nucleotides = {'A':0,'G':1,'U':2,'C':3}\n",
    "nucleotides_text = ['A','G','U','C']"
   ]
  },
  {
   "cell_type": "markdown",
   "metadata": {},
   "source": [
    "**Parameters**"
   ]
  },
  {
   "cell_type": "code",
   "execution_count": 27,
   "metadata": {},
   "outputs": [],
   "source": [
    "initial_rna = \"ACCC\"\n",
    "target = \"AGCCCGA\"\n",
    "global_enviornmental_factors = []\n",
    "generations = 3\n",
    "base_mutation = np.array([[0.925, 0.025, 0.025, 0.025], [0.025, 0.925, 0.025, 0.025], [0.025, 0.025, 0.925, 0.025], [0.025, 0.025, 0.025, 0.925]])"
   ]
  },
  {
   "cell_type": "markdown",
   "metadata": {},
   "source": [
    "**Update Parameters**"
   ]
  },
  {
   "cell_type": "code",
   "execution_count": 11,
   "metadata": {},
   "outputs": [],
   "source": [
    "def calculate_environmental_factors (rna_population, enviornmental_factors):\n",
    "    return enviornmental_factors\n",
    "\n",
    "def calculate_mutation_rate (factors, mutation_rate = base_mutation):\n",
    "    return mutation_rate"
   ]
  },
  {
   "cell_type": "markdown",
   "metadata": {},
   "source": [
    "**Find Indel Probability**"
   ]
  },
  {
   "cell_type": "code",
   "execution_count": 12,
   "metadata": {},
   "outputs": [],
   "source": [
    "def calculate_insertion_rate (sequence, factors, insertion_rate = 0.01):\n",
    "    return insertion_rate\n",
    "\n",
    "def calculate_deletion_rate (sequence, factors, deletion_rate = 0.01):\n",
    "    return deletion_rate"
   ]
  },
  {
   "cell_type": "markdown",
   "metadata": {},
   "source": [
    "**Transition Matrix Calculation**"
   ]
  },
  {
   "cell_type": "code",
   "execution_count": 13,
   "metadata": {},
   "outputs": [],
   "source": [
    "def mutation_chance_matrix(mutation_matrix, mutation_rate):\n",
    "    \"\"\"Takes in matrix of mutations, outputs matrix of probabilities of each mutation\"\"\"\n",
    "    probability_matrix = np.ones((len(mutation_matrix), len(mutation_matrix[0])))\n",
    "\n",
    "    for i, row in enumerate(mutation_matrix):\n",
    "        original = row[0]\n",
    "        o_length = len(original)\n",
    "        for j, possibility in enumerate(row):\n",
    "            for k in range(o_length):\n",
    "                original_index = nucleotides[original[k]]\n",
    "                possibility_index = nucleotides[possibility[k]]\n",
    "                probability_matrix[i, j] *= mutation_rate[original_index, possibility_index]\n",
    "\n",
    "    probability_matrix[:, 0] = np.maximum(0, 1 - np.sum(probability_matrix[:, 1:], axis=1))\n",
    "\n",
    "    return probability_matrix\n",
    "\n",
    "def generate_mutation_matrix(n):\n",
    "    sequences = [''.join(seq) for seq in itertools.product(nucleotides, repeat=n)]\n",
    "    matrix = [[seq] + [s for s in sequences if s != seq] for seq in sequences]\n",
    "    return np.array(matrix)\n"
   ]
  },
  {
   "cell_type": "code",
   "execution_count": 14,
   "metadata": {},
   "outputs": [],
   "source": [
    "def optimized_mutation_chance_matrix(mutation_matrix, mutation_rate):\n",
    "    nucleotides = {'A':0,'G':1,'U':2,'C':3}\n",
    "\n",
    "    num_rows, num_cols = mutation_matrix.shape\n",
    "    seq_length = len(mutation_matrix[0, 0])\n",
    "    \n",
    "    probability_matrix = np.ones((num_rows, num_cols))\n",
    "\n",
    "    mutation_indices = np.zeros((num_rows, num_cols, seq_length), dtype=int)\n",
    "    for i in range(num_rows):\n",
    "        for j in range(num_cols):\n",
    "            for k in range(seq_length):\n",
    "                mutation_indices[i, j, k] = nucleotides[mutation_matrix[i, j][k]]\n",
    "    \n",
    "    # Calculate probabilities using the mutation rate matrix\n",
    "    for k in range(seq_length):\n",
    "        # Extract the k-th nucleotide for each sequence\n",
    "        original_indices = mutation_indices[:, 0, k]  # The original sequence nucleotides at position k\n",
    "        mutation_indices_k = mutation_indices[:, :, k]  # All possible mutations at position k\n",
    "\n",
    "        # Perform element-wise multiplication for each mutation in parallel (vectorized)\n",
    "        probability_matrix *= mutation_rate[original_indices[:, np.newaxis], mutation_indices_k]\n",
    "\n",
    "    # Adjust the first column for \"no mutation\" probability\n",
    "    probability_matrix[:, 0] = np.maximum(0, 1 - np.sum(probability_matrix[:, 1:], axis=1))\n",
    "\n",
    "    return probability_matrix"
   ]
  },
  {
   "cell_type": "code",
   "execution_count": 15,
   "metadata": {},
   "outputs": [],
   "source": [
    "def compute_probabilities_for_batch(batch, mutation_rate, seq_length):\n",
    "    batch_probabilities = []\n",
    "    for row in batch:\n",
    "        row_probabilities = np.ones(len(row))\n",
    "        original_seq = row[0]\n",
    "        original_indices = [nucleotides[nt] for nt in original_seq]\n",
    "        for j, possible_mutation in enumerate(row):\n",
    "            mutation_indices = [nucleotides[nt] for nt in possible_mutation]\n",
    "            for k in range(seq_length):\n",
    "                row_probabilities[j] *= mutation_rate[original_indices[k], mutation_indices[k]]\n",
    "        batch_probabilities.append(row_probabilities)\n",
    "    return batch_probabilities\n",
    "\n",
    "def parallel_mutation_chance_matrix(mutation_matrix, mutation_rate, batch_size=10):\n",
    "    num_rows, num_cols = mutation_matrix.shape\n",
    "    seq_length = len(mutation_matrix[0, 0])\n",
    "\n",
    "    # Split the mutation matrix into batches of rows\n",
    "    batches = [mutation_matrix[i:i + batch_size] for i in range(0, num_rows, batch_size)]\n",
    "\n",
    "    with Pool() as pool:\n",
    "        probability_batches = pool.starmap(\n",
    "            compute_probabilities_for_batch,\n",
    "            [(batch, mutation_rate, seq_length) for batch in batches]\n",
    "        )\n",
    "\n",
    "    # Flatten the list of batches back into a full probability matrix\n",
    "    probability_matrix = np.vstack([np.array(batch) for batch in probability_batches])\n",
    "\n",
    "    # Adjust the first column for \"no mutation\" probability\n",
    "    probability_matrix[:, 0] = np.maximum(0, 1 - np.sum(probability_matrix[:, 1:], axis=1))\n",
    "\n",
    "    return probability_matrix"
   ]
  },
  {
   "cell_type": "code",
   "execution_count": null,
   "metadata": {},
   "outputs": [],
   "source": []
  },
  {
   "cell_type": "code",
   "execution_count": 16,
   "metadata": {},
   "outputs": [],
   "source": [
    "%load_ext cython"
   ]
  },
  {
   "cell_type": "code",
   "execution_count": 17,
   "metadata": {},
   "outputs": [],
   "source": [
    "%%cython\n",
    "import numpy as np\n",
    "cimport numpy as np\n",
    "\n",
    "# Defining C types for efficiency\n",
    "cdef int num_rows, num_cols, seq_length, i, j, k\n",
    "cdef int[:] mutation_indices\n",
    "\n",
    "# Nucleotide mapping\n",
    "cdef dict nucleotides = {'A': 0, 'G': 1, 'U': 2, 'C': 3}\n",
    "\n",
    "def optimized_mutation_chance_matrix2(np.ndarray mutation_matrix, np.ndarray mutation_rate):\n",
    "    \"\"\"\n",
    "    Optimized function to compute a matrix of probabilities for each mutation using Cython.\n",
    "    \"\"\"\n",
    "    num_rows = mutation_matrix.shape[0]\n",
    "    num_cols = mutation_matrix.shape[1]\n",
    "    seq_length = len(mutation_matrix[0, 0])  # Length of each nucleotide sequence\n",
    "    \n",
    "    # Initialize probability matrix\n",
    "    probability_matrix = np.ones((num_rows, num_cols))\n",
    "\n",
    "    # Convert the mutation_matrix to a numerical matrix of nucleotide indices\n",
    "    mutation_indices = np.zeros((num_rows, num_cols, seq_length), dtype=np.int32)\n",
    "    \n",
    "    # Populate mutation_indices by converting nucleotide sequences to index values\n",
    "    for i in range(num_rows):\n",
    "        for j in range(num_cols):\n",
    "            for k in range(seq_length):\n",
    "                mutation_indices[i, j, k] = nucleotides[mutation_matrix[i, j][k]]\n",
    "    \n",
    "    # Calculate probabilities using the mutation rate matrix\n",
    "    for k in range(seq_length):\n",
    "        # Extract the k-th nucleotide for each sequence\n",
    "        original_indices = mutation_indices[:, 0, k]  # The original sequence nucleotides at position k\n",
    "        mutation_indices_k = mutation_indices[:, :, k]  # All possible mutations at position k\n",
    "\n",
    "        # Perform element-wise multiplication for each mutation in parallel (vectorized)\n",
    "        probability_matrix *= mutation_rate[original_indices[:, np.newaxis], mutation_indices_k]\n",
    "\n",
    "    # Adjust the first column for \"no mutation\" probability\n",
    "    probability_matrix[:, 0] = np.maximum(0, 1 - np.sum(probability_matrix[:, 1:], axis=1))\n",
    "\n",
    "    return probability_matrix\n"
   ]
  },
  {
   "cell_type": "markdown",
   "metadata": {},
   "source": [
    "**Fitness**"
   ]
  },
  {
   "cell_type": "code",
   "execution_count": 18,
   "metadata": {},
   "outputs": [],
   "source": [
    "def fitness (target_distance, target_mfe, sequence):\n",
    "    sequence_distance = Levenshtein.distance(sequence, target)\n",
    "    if (sequence_distance > target_distance):\n",
    "        return False\n",
    "    sequence_mfe = RNA.fold(sequence)[1]\n",
    "    if (sequence_mfe > target_mfe):\n",
    "        return False\n",
    "\n",
    "    return True\n",
    "    "
   ]
  },
  {
   "cell_type": "markdown",
   "metadata": {},
   "source": [
    "**Simulation**"
   ]
  },
  {
   "cell_type": "code",
   "execution_count": 34,
   "metadata": {},
   "outputs": [],
   "source": [
    "def replicate_rna (initial_rna, mutation_rate, generations, target):\n",
    "\n",
    "    rna_population = [initial_rna]\n",
    "    full_population = [initial_rna]\n",
    "    \n",
    "    target_mfe = abs(RNA.fold(target)[1]-RNA.fold(initial_rna)[1])\n",
    "    target_distance = Levenshtein.distance(initial_rna, target)\n",
    "\n",
    "    enviornmental_factors = calculate_environmental_factors(rna_population, global_enviornmental_factors)\n",
    "\n",
    "    for _ in range(generations):\n",
    "\n",
    "        enviornmental_factors = calculate_environmental_factors(rna_population, enviornmental_factors)\n",
    "        mutation_rate = calculate_mutation_rate(enviornmental_factors, mutation_rate)\n",
    "        \n",
    "        new_population = []\n",
    "\n",
    "        for rna in rna_population:\n",
    "            old_rna = rna\n",
    "            o_len = len(old_rna)\n",
    "            new_rna = \"\"\n",
    "            nucleotides_gain = 0\n",
    "            \n",
    "            insertion_rate = calculate_insertion_rate(rna, enviornmental_factors)\n",
    "            deletion_rate = calculate_deletion_rate(rna, enviornmental_factors)\n",
    "\n",
    "            while (insertion_rate > random.random()):\n",
    "                nucleotides_gain += 1\n",
    "            while (deletion_rate > random.random()):\n",
    "                nucleotides_gain -= 1\n",
    "\n",
    "            if (nucleotides_gain > 0):\n",
    "                for _ in range(nucleotides_gain):\n",
    "                    index = random.randint(0, o_len)\n",
    "                    old_rna = old_rna[:index] + random.choice(nucleotides_text) + old_rna[index:]\n",
    "                    o_len += 1\n",
    "            elif (nucleotides_gain < 0):\n",
    "                for _ in range(-nucleotides_gain):\n",
    "                    index = random.randint(0, o_len)\n",
    "                    old_rna = old_rna[:index] + old_rna[index+1:]\n",
    "                    o_len -= 1\n",
    "\n",
    "            mutation_matrix = generate_mutation_matrix(o_len)\n",
    "            mutation_chance = optimized_mutation_chance_matrix2(mutation_matrix, mutation_rate)\n",
    "\n",
    "            mutation_list = mutation_matrix[mutation_matrix[:, 0] == old_rna][0]\n",
    "            mutation_chance_list = mutation_chance[mutation_matrix[:, 0] == old_rna][0]\n",
    "            new_rna = mutation_list[np.random.choice(len(mutation_chance_list), p=mutation_chance_list/mutation_chance_list.sum())]\n",
    "            \n",
    "            new_population.append(str(new_rna))\n",
    "\n",
    "        full_population += new_population.copy()\n",
    "        rna_population += [rna for rna in new_population if fitness(target_distance, target_mfe, rna)]\n",
    "    \n",
    "    return rna_population, full_population"
   ]
  },
  {
   "cell_type": "code",
   "execution_count": null,
   "metadata": {},
   "outputs": [],
   "source": [
    "mutation_rate = calculate_mutation_rate(global_enviornmental_factors)\n",
    "\n",
    "print(replicate_rna(initial_rna, mutation_rate, generations, target))"
   ]
  },
  {
   "cell_type": "markdown",
   "metadata": {},
   "source": [
    "**Data Analysis**"
   ]
  }
 ],
 "metadata": {
  "kernelspec": {
   "display_name": "env",
   "language": "python",
   "name": "python3"
  },
  "language_info": {
   "codemirror_mode": {
    "name": "ipython",
    "version": 3
   },
   "file_extension": ".py",
   "mimetype": "text/x-python",
   "name": "python",
   "nbconvert_exporter": "python",
   "pygments_lexer": "ipython3",
   "version": "3.12.2"
  }
 },
 "nbformat": 4,
 "nbformat_minor": 2
}
