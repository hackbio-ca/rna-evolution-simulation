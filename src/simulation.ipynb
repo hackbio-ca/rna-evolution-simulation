{
 "cells": [
  {
   "cell_type": "code",
   "execution_count": 2,
   "metadata": {},
   "outputs": [],
   "source": [
    "import random\n",
    "import numpy as np\n",
    "import matplotlib as plt\n",
    "import Levenshtein\n",
    "import itertools\n",
    "import RNA\n",
    "\n",
    "nucleotides = {'A':0,'G':1,'U':2,'C':3}\n",
    "nucleotides_text = ['A','G','U','C']"
   ]
  },
  {
   "cell_type": "markdown",
   "metadata": {},
   "source": [
    "**Parameters**"
   ]
  },
  {
   "cell_type": "code",
   "execution_count": 28,
   "metadata": {},
   "outputs": [],
   "source": [
    "initial_rna = \"ACCCAA\"\n",
    "target = \"AGCCCG\"\n",
    "global_enviornmental_factors = []\n",
    "generations = 3\n",
    "base_mutation = np.array([[0.925, 0.025, 0.025, 0.025], [0.025, 0.925, 0.025, 0.025], [0.025, 0.025, 0.925, 0.025], [0.025, 0.025, 0.025, 0.925]])"
   ]
  },
  {
   "cell_type": "markdown",
   "metadata": {},
   "source": [
    "**Update Parameters**"
   ]
  },
  {
   "cell_type": "code",
   "execution_count": 4,
   "metadata": {},
   "outputs": [],
   "source": [
    "def calculate_environmental_factors (rna_population, enviornmental_factors):\n",
    "    return enviornmental_factors\n",
    "\n",
    "def calculate_mutation_rate (factors, mutation_rate = base_mutation):\n",
    "    return mutation_rate"
   ]
  },
  {
   "cell_type": "markdown",
   "metadata": {},
   "source": [
    "**Find Indel Probability**"
   ]
  },
  {
   "cell_type": "code",
   "execution_count": 5,
   "metadata": {},
   "outputs": [],
   "source": [
    "def calculate_insertion_rate (sequence, factors, insertion_rate = 0.01):\n",
    "    return insertion_rate\n",
    "\n",
    "def calculate_deletion_rate (sequence, factors, deletion_rate = 0.01):\n",
    "    return deletion_rate"
   ]
  },
  {
   "cell_type": "markdown",
   "metadata": {},
   "source": [
    "**Transition Matrix Calculation**"
   ]
  },
  {
   "cell_type": "code",
   "execution_count": 27,
   "metadata": {},
   "outputs": [],
   "source": [
    "def mutation_chance_list(mutation_list, mutation_rate):\n",
    "    \"\"\"Takes in matrix of mutations, outputs matrix of probabilities of each mutation\"\"\"\n",
    "    probability_list = np.ones((len(mutation_list)))\n",
    "\n",
    "    original = mutation_list[0]\n",
    "    length_of_sequence = len(original)\n",
    "\n",
    "    for i, column in enumerate(mutation_list):\n",
    "        for k in range(length_of_sequence):\n",
    "            original_index = nucleotides[original[k]]\n",
    "            possibility_index = nucleotides[column[k]]\n",
    "            probability_list[i] *= mutation_rate[original_index, possibility_index]\n",
    "\n",
    "    probability_list[0] = np.maximum(0, 1 - np.sum(probability_list[1:]))\n",
    "\n",
    "    return probability_list\n",
    "\n",
    "def generate_mutation_matrix(n):\n",
    "    sequences = [''.join(seq) for seq in itertools.product(nucleotides, repeat=n)]\n",
    "    matrix = [[seq] + [s for s in sequences if s != seq] for seq in sequences]\n",
    "    return np.array(matrix)\n"
   ]
  },
  {
   "cell_type": "markdown",
   "metadata": {},
   "source": [
    "**Fitness**"
   ]
  },
  {
   "cell_type": "code",
   "execution_count": 7,
   "metadata": {},
   "outputs": [],
   "source": [
    "def fitness (target_distance, target_mfe, sequence):\n",
    "    sequence_distance = Levenshtein.distance(sequence, target)\n",
    "    if (sequence_distance > target_distance):\n",
    "        return False\n",
    "    sequence_mfe = RNA.fold(sequence)[1]\n",
    "    if (sequence_mfe > target_mfe):\n",
    "        return False\n",
    "\n",
    "    return True\n",
    "    "
   ]
  },
  {
   "cell_type": "markdown",
   "metadata": {},
   "source": [
    "**Simulation**"
   ]
  },
  {
   "cell_type": "code",
   "execution_count": 14,
   "metadata": {},
   "outputs": [],
   "source": [
    "def replicate_rna (initial_rna, mutation_rate, generations, target):\n",
    "\n",
    "    rna_population = [initial_rna]\n",
    "    full_population = [initial_rna]\n",
    "    \n",
    "    target_mfe = abs(RNA.fold(target)[1]-RNA.fold(initial_rna)[1])\n",
    "    target_distance = Levenshtein.distance(initial_rna, target)\n",
    "\n",
    "    enviornmental_factors = calculate_environmental_factors(rna_population, global_enviornmental_factors)\n",
    "\n",
    "    for _ in range(generations):\n",
    "\n",
    "        enviornmental_factors = calculate_environmental_factors(rna_population, enviornmental_factors)\n",
    "        mutation_rate = calculate_mutation_rate(enviornmental_factors, mutation_rate)\n",
    "        \n",
    "        new_population = []\n",
    "\n",
    "        for rna in rna_population:\n",
    "            old_rna = rna\n",
    "            o_len = len(old_rna)\n",
    "            new_rna = \"\"\n",
    "            nucleotides_gain = 0\n",
    "            \n",
    "            insertion_rate = calculate_insertion_rate(rna, enviornmental_factors)\n",
    "            deletion_rate = calculate_deletion_rate(rna, enviornmental_factors)\n",
    "\n",
    "            while (insertion_rate > random.random()):\n",
    "                nucleotides_gain += 1\n",
    "            while (deletion_rate > random.random()):\n",
    "                nucleotides_gain -= 1\n",
    "\n",
    "            if (nucleotides_gain > 0):\n",
    "                for _ in range(nucleotides_gain):\n",
    "                    index = random.randint(0, o_len)\n",
    "                    old_rna = old_rna[:index] + random.choice(nucleotides_text) + old_rna[index:]\n",
    "                    o_len += 1\n",
    "            elif (nucleotides_gain < 0):\n",
    "                for _ in range(-nucleotides_gain):\n",
    "                    index = random.randint(0, o_len)\n",
    "                    old_rna = old_rna[:index] + old_rna[index+1:]\n",
    "                    o_len -= 1\n",
    "\n",
    "            mutation_matrix = generate_mutation_matrix(o_len)\n",
    "            #mutation_chance = mutation_chance_matrix(mutation_matrix, mutation_rate)\n",
    "\n",
    "            mutation_list = mutation_matrix[mutation_matrix[:, 0] == old_rna][0]\n",
    "            #mutation_chance_list = mutation_chance[mutation_matrix[:, 0] == old_rna][0]\n",
    "            chance_list = mutation_chance_list(mutation_list, mutation_rate)\n",
    "            new_rna = mutation_list[np.random.choice(len(chance_list), p=chance_list/chance_list.sum())]\n",
    "            \n",
    "            new_population.append(str(new_rna))\n",
    "\n",
    "        full_population += new_population.copy()\n",
    "        rna_population += [rna for rna in new_population if fitness(target_distance, target_mfe, rna)]\n",
    "    \n",
    "    return rna_population, full_population"
   ]
  },
  {
   "cell_type": "code",
   "execution_count": 26,
   "metadata": {},
   "outputs": [
    {
     "name": "stdout",
     "output_type": "stream",
     "text": [
      "(['ACCCAAC', 'ACCCAAC', 'ACCCAAC', 'ACCCAAC'], ['ACCCAAC', 'CUCCAAC', 'ACCCAAC', 'ACCCAAC', 'ACCCAAC'])\n"
     ]
    }
   ],
   "source": [
    "mutation_rate = calculate_mutation_rate(global_enviornmental_factors)\n",
    "\n",
    "print(replicate_rna(initial_rna, mutation_rate, generations, target))"
   ]
  },
  {
   "cell_type": "code",
   "execution_count": 30,
   "metadata": {},
   "outputs": [
    {
     "name": "stdout",
     "output_type": "stream",
     "text": [
      "         50093 function calls (50089 primitive calls) in 11.455 seconds\n",
      "\n",
      "   Ordered by: standard name\n",
      "\n",
      "   ncalls  tottime  percall  cumtime  percall filename:lineno(function)\n",
      "        1    0.118    0.118    6.035    6.035 2958138522.py:1(replicate_rna)\n",
      "        6    0.000    0.000    0.001    0.000 3520087228.py:1(fitness)\n",
      "        6    0.000    0.000    0.000    0.000 3690251470.py:1(calculate_insertion_rate)\n",
      "        6    0.000    0.000    0.000    0.000 3690251470.py:4(calculate_deletion_rate)\n",
      "        4    0.000    0.000    0.000    0.000 3819459897.py:1(calculate_environmental_factors)\n",
      "        3    0.000    0.000    0.000    0.000 3819459897.py:4(calculate_mutation_rate)\n",
      "        6    0.038    0.006    0.040    0.007 3971689967.py:1(mutation_chance_list)\n",
      "        6    2.379    0.397    9.718    1.620 3971689967.py:17(generate_mutation_matrix)\n",
      "        1    0.014    0.014    6.049    6.049 <string>:1(<module>)\n",
      "        6    0.000    0.000    0.001    0.000 RNA.py:8189(fold)\n",
      "        7    0.000    0.000    0.000    0.000 __init__.py:65(distance)\n",
      "        6    0.000    0.000    0.000    0.000 _methods.py:50(_sum)\n",
      "        1    0.000    0.000    0.000    0.000 base_events.py:1903(_timer_handle_cancelled)\n",
      "      1/0    0.000    0.000    0.000          base_events.py:1908(_run_once)\n",
      "        4    0.000    0.000    0.000    0.000 base_events.py:2003(get_debug)\n",
      "        1    0.000    0.000    0.000    0.000 base_events.py:446(create_future)\n",
      "        2    0.000    0.000    0.000    0.000 base_events.py:538(_check_closed)\n",
      "        4    0.000    0.000    0.000    0.000 base_events.py:732(time)\n",
      "        1    0.000    0.000    0.000    0.000 base_events.py:741(call_later)\n",
      "        1    0.000    0.000    0.000    0.000 base_events.py:765(call_at)\n",
      "        1    0.000    0.000    0.000    0.000 base_events.py:783(call_soon)\n",
      "        1    0.000    0.000    0.000    0.000 base_events.py:812(_call_soon)\n",
      "        1    0.000    0.000    0.000    0.000 events.py:111(__init__)\n",
      "        1    0.000    0.000    0.000    0.000 events.py:155(cancel)\n",
      "        2    0.000    0.000    0.000    0.000 events.py:36(__init__)\n",
      "        1    0.000    0.000    0.000    0.000 events.py:72(cancel)\n",
      "        2    0.000    0.000    0.000    0.000 events.py:86(_run)\n",
      "        6    0.000    0.000    0.000    0.000 fromnumeric.py:2250(_sum_dispatcher)\n",
      "        6    0.000    0.000    0.000    0.000 fromnumeric.py:2255(sum)\n",
      "        6    0.000    0.000    0.000    0.000 fromnumeric.py:69(_wrapreduction)\n",
      "        1    0.000    0.000    0.000    0.000 futures.py:311(_set_result_unless_cancelled)\n",
      "       12    0.000    0.000    0.000    0.000 getlimits.py:487(__new__)\n",
      "        1    0.000    0.000    0.000    0.000 history.py:839(_writeout_output_cache)\n",
      "        1    0.000    0.000    0.000    0.000 iostream.py:118(_run_event_pipe_gc)\n",
      "        1    0.000    0.000    0.000    0.000 iostream.py:127(_event_pipe_gc)\n",
      "       62    0.001    0.000    0.002    0.000 ipkernel.py:775(_clean_thread_parent_frames)\n",
      "        6    0.000    0.000    0.000    0.000 multiarray.py:1089(copyto)\n",
      "        6    0.000    0.000    0.000    0.000 numeric.py:143(ones)\n",
      "       12    0.000    0.000    0.000    0.000 numerictypes.py:288(issubclass_)\n",
      "        6    0.000    0.000    0.000    0.000 numerictypes.py:470(issubdtype)\n",
      "        2    0.000    0.000    0.000    0.000 selector_events.py:750(_process_events)\n",
      "        1    0.000    0.000    0.044    0.044 selectors.py:313(_select)\n",
      "        1    0.000    0.000    0.044    0.044 selectors.py:319(select)\n",
      "        2    0.000    0.000    0.000    0.000 tasks.py:653(sleep)\n",
      "        3    0.000    0.000    0.000    0.000 threading.py:1153(_wait_for_tstate_lock)\n",
      "      186    0.000    0.000    0.000    0.000 threading.py:1196(ident)\n",
      "        3    0.000    0.000    0.000    0.000 threading.py:1220(is_alive)\n",
      "       31    0.000    0.000    0.001    0.000 threading.py:1533(enumerate)\n",
      "        1    0.000    0.000    0.000    0.000 threading.py:299(__enter__)\n",
      "        1    0.000    0.000    0.000    0.000 threading.py:308(_release_save)\n",
      "        1    0.000    0.000    0.000    0.000 threading.py:314(_is_owned)\n",
      "        3    0.000    0.000    0.000    0.000 threading.py:601(is_set)\n",
      "        1    0.000    0.000    0.000    0.000 traitlets.py:1512(_notify_trait)\n",
      "        1    0.000    0.000    0.000    0.000 traitlets.py:1523(notify_change)\n",
      "        1    0.000    0.000    0.000    0.000 traitlets.py:1527(_notify_observers)\n",
      "        2    0.000    0.000    0.000    0.000 traitlets.py:2304(validate)\n",
      "        2    0.000    0.000    0.000    0.000 traitlets.py:3474(validate)\n",
      "        2    0.000    0.000    0.000    0.000 traitlets.py:3486(validate_elements)\n",
      "        2    0.000    0.000    0.000    0.000 traitlets.py:3624(validate_elements)\n",
      "        2    0.000    0.000    0.000    0.000 traitlets.py:3631(set)\n",
      "        2    0.000    0.000    0.000    0.000 traitlets.py:629(get)\n",
      "        2    0.000    0.000    0.000    0.000 traitlets.py:676(__get__)\n",
      "        2    0.000    0.000    0.000    0.000 traitlets.py:689(set)\n",
      "        2    0.000    0.000    0.000    0.000 traitlets.py:708(__set__)\n",
      "        2    0.000    0.000    0.000    0.000 traitlets.py:718(_validate)\n",
      "        2    0.000    0.000    0.000    0.000 traitlets.py:727(_cross_validate)\n",
      "       14    0.000    0.000    0.000    0.000 typing.py:2132(cast)\n",
      "        6    0.001    0.000    0.001    0.000 {built-in method RNA._RNA.fold}\n",
      "        1    0.000    0.000    0.000    0.000 {built-in method _asyncio.get_running_loop}\n",
      "        1    0.000    0.000    0.000    0.000 {built-in method _contextvars.copy_context}\n",
      "        1    0.000    0.000    0.000    0.000 {built-in method _heapq.heappop}\n",
      "        1    0.000    0.000    0.000    0.000 {built-in method _heapq.heappush}\n",
      "        1    0.000    0.000    0.000    0.000 {built-in method _thread.allocate_lock}\n",
      "        1    0.000    0.000    0.000    0.000 {built-in method builtins.abs}\n",
      "        1    0.000    0.000    6.049    6.049 {built-in method builtins.exec}\n",
      "        5    0.000    0.000    0.000    0.000 {built-in method builtins.hasattr}\n",
      "       75    0.000    0.000    0.000    0.000 {built-in method builtins.isinstance}\n",
      "       18    0.000    0.000    0.000    0.000 {built-in method builtins.issubclass}\n",
      "    24600    0.001    0.000    0.001    0.000 {built-in method builtins.len}\n",
      "        3    0.000    0.000    0.000    0.000 {built-in method builtins.max}\n",
      "        1    0.000    0.000    0.000    0.000 {built-in method builtins.min}\n",
      "        6    8.838    1.473    8.838    1.473 {built-in method numpy.array}\n",
      "        6    0.000    0.000    0.000    0.000 {built-in method numpy.empty}\n",
      "        1    0.044    0.044    0.044    0.044 {built-in method select.select}\n",
      "        4    0.000    0.000    0.000    0.000 {built-in method time.monotonic}\n",
      "        1    0.000    0.000    0.000    0.000 {method '__enter__' of '_thread.lock' objects}\n",
      "       31    0.000    0.000    0.000    0.000 {method '__exit__' of '_thread.RLock' objects}\n",
      "        3    0.000    0.000    0.000    0.000 {method '__exit__' of '_thread.lock' objects}\n",
      "        2    0.016    0.008    0.016    0.008 {method '__exit__' of 'sqlite3.Connection' objects}\n",
      "      5/2    0.000    0.000    0.000    0.000 {method 'acquire' of '_thread.lock' objects}\n",
      "        3    0.000    0.000    0.000    0.000 {method 'append' of 'collections.deque' objects}\n",
      "        6    0.000    0.000    0.000    0.000 {method 'append' of 'list' objects}\n",
      "        1    0.000    0.000    0.000    0.000 {method 'cancelled' of '_asyncio.Future' objects}\n",
      "        3    0.000    0.000    0.000    0.000 {method 'copy' of 'list' objects}\n",
      "        1    0.000    0.000    0.000    0.000 {method 'disable' of '_lsprof.Profiler' objects}\n",
      "        2    0.000    0.000    0.000    0.000 {method 'extend' of 'list' objects}\n",
      "       16    0.000    0.000    0.000    0.000 {method 'get' of 'dict' objects}\n",
      "        7    0.000    0.000    0.000    0.000 {method 'items' of 'dict' objects}\n",
      "    24576    0.003    0.000    0.003    0.000 {method 'join' of 'str' objects}\n",
      "      124    0.000    0.000    0.000    0.000 {method 'keys' of 'dict' objects}\n",
      "        2    0.000    0.000    0.000    0.000 {method 'popleft' of 'collections.deque' objects}\n",
      "       12    0.000    0.000    0.000    0.000 {method 'random' of '_random.Random' objects}\n",
      "       12    0.000    0.000    0.000    0.000 {method 'reduce' of 'numpy.ufunc' objects}\n",
      "        1    0.000    0.000    0.000    0.000 {method 'release' of '_thread.lock' objects}\n",
      "        2    0.000    0.000    0.000    0.000 {method 'run' of '_contextvars.Context' objects}\n",
      "        1    0.000    0.000    0.000    0.000 {method 'set_result' of '_asyncio.Future' objects}\n",
      "        6    0.000    0.000    0.000    0.000 {method 'sum' of 'numpy.ndarray' objects}\n",
      "       62    0.000    0.000    0.000    0.000 {method 'values' of 'dict' objects}\n",
      "\n",
      "\n"
     ]
    }
   ],
   "source": [
    "import cProfile\n",
    "\n",
    "cProfile.run('replicate_rna(initial_rna, mutation_rate, generations, target)')"
   ]
  },
  {
   "cell_type": "markdown",
   "metadata": {},
   "source": [
    "**Data Analysis**"
   ]
  }
 ],
 "metadata": {
  "kernelspec": {
   "display_name": "env",
   "language": "python",
   "name": "python3"
  },
  "language_info": {
   "codemirror_mode": {
    "name": "ipython",
    "version": 3
   },
   "file_extension": ".py",
   "mimetype": "text/x-python",
   "name": "python",
   "nbconvert_exporter": "python",
   "pygments_lexer": "ipython3",
   "version": "3.12.2"
  }
 },
 "nbformat": 4,
 "nbformat_minor": 2
}
