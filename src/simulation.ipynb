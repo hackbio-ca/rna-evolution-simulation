{
 "cells": [
  {
   "cell_type": "code",
   "execution_count": 41,
   "metadata": {},
   "outputs": [],
   "source": [
    "import random\n",
    "import numpy as np\n",
    "import matplotlib as plt\n",
    "import Levenshtein\n",
    "import itertools\n",
    "\n",
    "nucleotides = ['A', 'G', 'U', 'C']"
   ]
  },
  {
   "cell_type": "markdown",
   "metadata": {},
   "source": [
    "**Parameters**"
   ]
  },
  {
   "cell_type": "code",
   "execution_count": 267,
   "metadata": {},
   "outputs": [],
   "source": [
    "initial_rna = \"AUG\"\n",
    "global_enviornmental_factors = []\n",
    "generations = 3\n",
    "base_mutation = np.array([[0.925, 0.025, 0.025, 0.025], [0.025, 0.925, 0.025, 0.025], [0.025, 0.025, 0.925, 0.025], [0.025, 0.025, 0.025, 0.925]])\n",
    "#base_mutation = np.array([[1,0,0,0], [0,1,0,0], [0,0,1,0], [0,0,0,1]])"
   ]
  },
  {
   "cell_type": "markdown",
   "metadata": {},
   "source": [
    "**Update Parameters**"
   ]
  },
  {
   "cell_type": "code",
   "execution_count": 270,
   "metadata": {},
   "outputs": [],
   "source": [
    "def calculate_environmental_factors (rna_population, enviornmental_factors):\n",
    "    return enviornmental_factors\n",
    "\n",
    "def calculate_mutation_rate (factors, mutation_rate = base_mutation):\n",
    "    return mutation_rate"
   ]
  },
  {
   "cell_type": "markdown",
   "metadata": {},
   "source": [
    "**Find Indel Probability**"
   ]
  },
  {
   "cell_type": "code",
   "execution_count": 44,
   "metadata": {},
   "outputs": [],
   "source": [
    "def calculate_insertion_rate (sequence, factors, insertion_rate = 0.01):\n",
    "    return insertion_rate\n",
    "\n",
    "def calculate_deletion_rate (sequence, factors, deletion_rate = 0.01):\n",
    "    return deletion_rate"
   ]
  },
  {
   "cell_type": "markdown",
   "metadata": {},
   "source": [
    "**Transition Matrix Calculation**"
   ]
  },
  {
   "cell_type": "code",
   "execution_count": 266,
   "metadata": {},
   "outputs": [],
   "source": [
    "def mutation_chance_matrix(mutation_matrix, mutation_rate):\n",
    "    \"\"\"Takes in matrix of mutations, outputs matrix of probabilities of each mutation\"\"\"\n",
    "    probability_matrix = np.ones((len(mutation_matrix), len(mutation_matrix[0])))\n",
    "\n",
    "    for i, row in enumerate(mutation_matrix):\n",
    "        original = row[0]\n",
    "        for j, possibility in enumerate(row):\n",
    "            for k in range(len(original)):\n",
    "                original_index = nucleotides.index(original[k])\n",
    "                possibility_index = nucleotides.index(possibility[k])\n",
    "                probability_matrix[i, j] *= mutation_rate[original_index, possibility_index]\n",
    "\n",
    "    probability_matrix[:, 0] = np.maximum(0, 1 - np.sum(probability_matrix[:, 1:], axis=1))\n",
    "\n",
    "    return probability_matrix\n",
    "\n",
    "def generate_mutation_matrix(n):\n",
    "    sequences = [''.join(seq) for seq in itertools.product(nucleotides, repeat=n)]\n",
    "    matrix = [[seq] + [s for s in sequences if s != seq] for seq in sequences]\n",
    "    return np.array(matrix)\n"
   ]
  },
  {
   "cell_type": "markdown",
   "metadata": {},
   "source": [
    "**Replication Verification**"
   ]
  },
  {
   "cell_type": "code",
   "execution_count": 283,
   "metadata": {},
   "outputs": [],
   "source": [
    "def does_replicate (sequence, factors):\n",
    "    return True"
   ]
  },
  {
   "cell_type": "markdown",
   "metadata": {},
   "source": [
    "**Simulation**"
   ]
  },
  {
   "cell_type": "code",
   "execution_count": 272,
   "metadata": {},
   "outputs": [],
   "source": [
    "def replicate_rna (initial_rna, mutation_rate, generations):\n",
    "    rna_population = [initial_rna]\n",
    "    full_population = [initial_rna]\n",
    "\n",
    "    enviornmental_factors = calculate_environmental_factors(rna_population, global_enviornmental_factors)\n",
    "\n",
    "    for _ in range(generations):\n",
    "\n",
    "        enviornmental_factors = calculate_environmental_factors(rna_population, enviornmental_factors)\n",
    "        mutation_rate = calculate_mutation_rate(enviornmental_factors, mutation_rate)\n",
    "        \n",
    "        new_population = []\n",
    "\n",
    "        for rna in rna_population:\n",
    "            old_rna = rna\n",
    "            new_rna = \"\"\n",
    "            nucleotides_gain = 0\n",
    "            \n",
    "            insertion_rate = calculate_insertion_rate(rna, enviornmental_factors)\n",
    "            deletion_rate = calculate_deletion_rate(rna, enviornmental_factors)\n",
    "\n",
    "            while (insertion_rate > random.random()):\n",
    "                nucleotides_gain += 1\n",
    "            while (deletion_rate > random.random()):\n",
    "                nucleotides_gain -= 1\n",
    "\n",
    "            if (nucleotides_gain > 0):\n",
    "                for _ in range(nucleotides_gain):\n",
    "                    index = random.randint(0, len(old_rna))\n",
    "                    old_rna = old_rna[:index] + random.choice(nucleotides) + old_rna[index:]\n",
    "            elif (nucleotides_gain < 0):\n",
    "                for _ in range(-nucleotides_gain):\n",
    "                    index = random.randint(0, len(old_rna))\n",
    "                    old_rna = old_rna[:index] + old_rna[index+1:]\n",
    "\n",
    "            mutation_matrix = generate_mutation_matrix(len(old_rna))\n",
    "            mutation_chance = mutation_chance_matrix(mutation_matrix, mutation_rate)\n",
    "\n",
    "            mutation_list = mutation_matrix[mutation_matrix[:, 0] == old_rna][0]\n",
    "            mutation_chance_list = mutation_chance[mutation_matrix[:, 0] == old_rna][0]\n",
    "            new_rna = mutation_list[np.random.choice(len(mutation_chance_list), p=mutation_chance_list/mutation_chance_list.sum())]\n",
    "            \n",
    "            new_population.append(str(new_rna))\n",
    "\n",
    "        full_population += new_population\n",
    "        rna_population += [rna for rna in new_population if does_replicate(rna, enviornmental_factors)]\n",
    "    \n",
    "    return rna_population, full_population"
   ]
  },
  {
   "cell_type": "code",
   "execution_count": 282,
   "metadata": {},
   "outputs": [
    {
     "name": "stdout",
     "output_type": "stream",
     "text": [
      "['AUG', 'AUG', 'AUG', 'AUG', 'AGG', 'ACG', 'AUG', 'AUG']\n"
     ]
    }
   ],
   "source": [
    "mutation_rate = calculate_mutation_rate(global_enviornmental_factors)\n",
    "\n",
    "print(replicate_rna(initial_rna, mutation_rate, generations))\n",
    "\n"
   ]
  },
  {
   "cell_type": "markdown",
   "metadata": {},
   "source": [
    "**Data Analysis**"
   ]
  }
 ],
 "metadata": {
  "kernelspec": {
   "display_name": "env",
   "language": "python",
   "name": "python3"
  },
  "language_info": {
   "codemirror_mode": {
    "name": "ipython",
    "version": 3
   },
   "file_extension": ".py",
   "mimetype": "text/x-python",
   "name": "python",
   "nbconvert_exporter": "python",
   "pygments_lexer": "ipython3",
   "version": "3.12.2"
  }
 },
 "nbformat": 4,
 "nbformat_minor": 2
}
